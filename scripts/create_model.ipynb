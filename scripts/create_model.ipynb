{
 "cells": [
  {
   "cell_type": "code",
   "execution_count": 200,
   "id": "8602d1cb",
   "metadata": {},
   "outputs": [],
   "source": [
    "import os\n",
    "import torch\n",
    "import pandas as pd\n",
    "import numpy as np\n",
    "from tqdm import tqdm\n",
    "import onnxruntime as ort\n",
    "import matplotlib.pyplot as plt\n",
    "\n",
    "from transformers import BertTokenizer\n",
    "from sklearn.model_selection import train_test_split\n",
    "from sklearn.metrics import confusion_matrix, ConfusionMatrixDisplay\n",
    "from sklearn.naive_bayes import GaussianNB\n",
    "\n",
    "from torch.utils.data import Dataset, DataLoader, Subset\n",
    "from torch.nn.utils.rnn import pad_sequence\n",
    "\n",
    "\n",
    "from helpers import get_data, process_data, display_data"
   ]
  },
  {
   "cell_type": "code",
   "execution_count": 201,
   "id": "d1501894",
   "metadata": {},
   "outputs": [],
   "source": [
    "def map_label_to_class(label):\n",
    "  topic_to_index = {\n",
    "    \"tech\" : 0,\n",
    "    \"sport\" : 1,\n",
    "    \"politics\" : 2,\n",
    "    \"gaming\" : 3,\n",
    "    \"food\" : 4,\n",
    "    \"business\" : 5\n",
    "  }\n",
    "\n",
    "  try: \n",
    "    return topic_to_index[label]\n",
    "  except: raise ValueError(f\"Label '{label}' not found in any source categories.\")\n",
    "\n",
    "def pytorch_to_numpy(loader):\n",
    "  inputs_array = []\n",
    "  labels_array = []\n",
    "  for inputs, labels in loader:\n",
    "    inputs_batch = inputs.cpu().numpy()\n",
    "    labels_batch = labels.cpu().numpy()\n",
    "\n",
    "    for input in inputs_batch:\n",
    "      inputs_array.append(input)\n",
    "    for label in labels_batch:\n",
    "      labels_array.append(label)\n",
    "  return inputs_array, labels_array"
   ]
  },
  {
   "cell_type": "code",
   "execution_count": 202,
   "id": "e61fd80f",
   "metadata": {},
   "outputs": [],
   "source": [
    "# dataset initialization\n",
    "class TopicData(Dataset):\n",
    "  def __init__(self,df,device):\n",
    "    df.drop(columns=['id'])\n",
    "    self.tokenizer = BertTokenizer.from_pretrained('bert-base-uncased')\n",
    "    self.data = df\n",
    "    self.device = device\n",
    "  \n",
    "  def __len__(self):\n",
    "    return len(self.data)\n",
    "\n",
    "  def __getitem__(self,idx):\n",
    "    text = self.data['text'][idx]\n",
    "    label = map_label_to_class(self.data['topic'][idx])\n",
    "    vectorized_text = self.tokenizer(\n",
    "      text,\n",
    "      return_tensors='pt',\n",
    "      truncation=True,\n",
    "      padding='max_length'\n",
    "      )\n",
    "    input = vectorized_text['input_ids'].squeeze(0)\n",
    "    return input.to(self.device),torch.tensor(label).to(self.device)"
   ]
  },
  {
   "cell_type": "code",
   "execution_count": 203,
   "id": "9dc4a567",
   "metadata": {},
   "outputs": [],
   "source": [
    "# split data \n",
    "def collate_fn(batch):\n",
    "  inputs, labels = zip(*batch)\n",
    "  inputs = pad_sequence(inputs, batch_first=True, padding_value=0)\n",
    "  labels = torch.stack(labels)\n",
    "  return inputs, labels\n",
    "\n",
    "def split_data(dataset,batch_size):\n",
    "  train_idx, test_idx = train_test_split(range(len(dataset)),test_size=0.2,random_state=42,shuffle=True)\n",
    "  train_dataset = Subset(dataset,train_idx)\n",
    "  test_dataset = Subset(dataset,test_idx)\n",
    "  train_loader = DataLoader(train_dataset, batch_size=batch_size, shuffle=True, collate_fn=collate_fn)\n",
    "  test_loader = DataLoader(test_dataset, batch_size=batch_size, shuffle=True, collate_fn=collate_fn)\n",
    "  return train_loader, test_loader"
   ]
  },
  {
   "cell_type": "code",
   "execution_count": null,
   "id": "738c8be2",
   "metadata": {},
   "outputs": [
    {
     "data": {
      "image/png": "[encoded data removed]",
      "text/plain": [
       "<Figure size 640x480 with 1 Axes>"
      ]
     },
     "metadata": {},
     "output_type": "display_data"
    },
    {
     "name": "stdout",
     "output_type": "stream",
     "text": [
      "cuda\n",
      "[5 5 5 5 0 5 5 5 5 5 5 5 5 5 5 5 5 5 5 5 5 5 5 5 5 5 5 5 5 5 5 5 5 1 5 1 5\n",
      " 5 5 5 5 5 5 5 0 5 5 5 5 5 5 5 2 5 0 5 5 5 5 5 5 5 5 5 5 5 1 5 5 5 5 5 5 5\n",
      " 5 5 5 5 5 5 5 5 2 5 5 5 5 5 5 5 5 5 2 5 5 5 5 5 5]\n",
      "Number of mislabeled points out of a total 99 points : 73\n"
     ]
    }
   ],
   "source": [
    "def main(text, batch_size, num_epochs, verbose, override, skl):\n",
    "  device = ('cuda' if torch.cuda.is_available() else 'cpu')\n",
    "\n",
    "  nn_path = '../models/'\n",
    "  \n",
    "  df = get_data()\n",
    "  df = process_data(df)\n",
    "\n",
    "  if (override or not os.path.exists(nn_path) and verbose):\n",
    "    display_data(df)\n",
    "    print(device)\n",
    "\n",
    "  if skl: batch_size = len(df)\n",
    "\n",
    "  dataset = TopicData(df,device)\n",
    "  train_loader, test_loader = split_data(dataset,batch_size)\n",
    "\n",
    "  inputs_array, labels_array = pytorch_to_numpy(train_loader)\n",
    "  test_inputs_array, test_label_array = pytorch_to_numpy(test_loader)\n",
    "\n",
    "  gnb = GaussianNB()\n",
    "  model = gnb.fit(inputs_array,labels_array)\n",
    "  pred = model.predict(test_inputs_array)\n",
    "  print(\"Number of mislabeled points out of a total %d points : %d\"\n",
    "      % (len(test_inputs_array), (test_label_array != pred).sum()))\n",
    "  #X_train, X_test, y_train, y_test = train_test_split(X, y, test_size=0.5, random_state=0)\n",
    "main('sports sports sports', batch_size=1, num_epochs=10, verbose=True, override=True, skl=True)"
   ]
  }
 ],
 "metadata": {
  "kernelspec": {
   "display_name": ".venv",
   "language": "python",
   "name": "python3"
  },
  "language_info": {
   "codemirror_mode": {
    "name": "ipython",
    "version": 3
   },
   "file_extension": ".py",
   "mimetype": "text/x-python",
   "name": "python",
   "nbconvert_exporter": "python",
   "pygments_lexer": "ipython3",
   "version": "3.10.11"
  }
 },
 "nbformat": 4,
 "nbformat_minor": 5
}
